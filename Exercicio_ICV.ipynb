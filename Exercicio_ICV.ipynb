{
 "cells": [
  {
   "cell_type": "code",
   "execution_count": 1,
   "metadata": {},
   "outputs": [],
   "source": [
    "import numpy as np\n",
    "import pandas as pd"
   ]
  },
  {
   "cell_type": "code",
   "execution_count": 2,
   "metadata": {},
   "outputs": [],
   "source": [
    "def calcular_inventario(A,B,k):\n",
    "    inva = np.linalg.inv(A.to_numpy()) \n",
    "    bma = np.matmul(B.to_numpy(), inva)\n",
    "    M = np.matmul(bma, k.to_numpy())\n",
    "    \n",
    "    return inva, bma, M"
   ]
  },
  {
   "cell_type": "markdown",
   "metadata": {},
   "source": [
    "## Elabore a matriz  Atil e Btil utilizando os seguintes dados:"
   ]
  },
  {
   "cell_type": "markdown",
   "metadata": {},
   "source": [
    "### o primeiro processo produz 1 kg de coque, consome 0,04 kg de aço, utiliza 1 kg de carvão (da natureza) e emite 0,5 kg de CO2 e 2 g de NOx para o ar,\n",
    "### o segundo processo produz 3 kg de aço e 1 kg de ferro fundido e, para tanto, consome 0,4 kg de coque, e emite 2 kg de CO2 e 7 kg de NOx para o meio ambiente."
   ]
  },
  {
   "cell_type": "code",
   "execution_count": 3,
   "metadata": {},
   "outputs": [
    {
     "data": {
      "text/html": [
       "<div>\n",
       "<style scoped>\n",
       "    .dataframe tbody tr th:only-of-type {\n",
       "        vertical-align: middle;\n",
       "    }\n",
       "\n",
       "    .dataframe tbody tr th {\n",
       "        vertical-align: top;\n",
       "    }\n",
       "\n",
       "    .dataframe thead th {\n",
       "        text-align: right;\n",
       "    }\n",
       "</style>\n",
       "<table border=\"1\" class=\"dataframe\">\n",
       "  <thead>\n",
       "    <tr style=\"text-align: right;\">\n",
       "      <th></th>\n",
       "      <th>Processo 1</th>\n",
       "      <th>Processo 2</th>\n",
       "    </tr>\n",
       "    <tr>\n",
       "      <th>Produto</th>\n",
       "      <th></th>\n",
       "      <th></th>\n",
       "    </tr>\n",
       "  </thead>\n",
       "  <tbody>\n",
       "    <tr>\n",
       "      <th>Coque</th>\n",
       "      <td>1.00</td>\n",
       "      <td>-0.4</td>\n",
       "    </tr>\n",
       "    <tr>\n",
       "      <th>Aço</th>\n",
       "      <td>-0.04</td>\n",
       "      <td>3.0</td>\n",
       "    </tr>\n",
       "    <tr>\n",
       "      <th>Fofo</th>\n",
       "      <td>0.00</td>\n",
       "      <td>1.0</td>\n",
       "    </tr>\n",
       "  </tbody>\n",
       "</table>\n",
       "</div>"
      ],
      "text/plain": [
       "         Processo 1  Processo 2\n",
       "Produto                        \n",
       "Coque          1.00        -0.4\n",
       "Aço           -0.04         3.0\n",
       "Fofo           0.00         1.0"
      ]
     },
     "execution_count": 3,
     "metadata": {},
     "output_type": "execute_result"
    }
   ],
   "source": [
    "# Matriz A: Fluxos intermediários (tecnológicos)\n",
    "coque = {'Produto':'Coque', 'Processo 1':1, 'Processo 2':-0.4}\n",
    "aco = {'Produto':'Aço', 'Processo 1': -0.04, 'Processo 2': 3}\n",
    "fofo = {'Produto':'Fofo', 'Processo 1': 0, 'Processo 2': 1}\n",
    "linhas = [coque, aco, fofo]\n",
    "nprods = len(linhas)\n",
    "\n",
    "dfA = pd.DataFrame()\n",
    "for linha in linhas:\n",
    "    dfA = dfA.append(linha, ignore_index=True)\n",
    "dfA = dfA.set_index('Produto')\n",
    "dfA"
   ]
  },
  {
   "cell_type": "code",
   "execution_count": 4,
   "metadata": {},
   "outputs": [
    {
     "data": {
      "text/html": [
       "<div>\n",
       "<style scoped>\n",
       "    .dataframe tbody tr th:only-of-type {\n",
       "        vertical-align: middle;\n",
       "    }\n",
       "\n",
       "    .dataframe tbody tr th {\n",
       "        vertical-align: top;\n",
       "    }\n",
       "\n",
       "    .dataframe thead th {\n",
       "        text-align: right;\n",
       "    }\n",
       "</style>\n",
       "<table border=\"1\" class=\"dataframe\">\n",
       "  <thead>\n",
       "    <tr style=\"text-align: right;\">\n",
       "      <th></th>\n",
       "      <th>Processo 1</th>\n",
       "      <th>Processo 2</th>\n",
       "    </tr>\n",
       "    <tr>\n",
       "      <th>Produto</th>\n",
       "      <th></th>\n",
       "      <th></th>\n",
       "    </tr>\n",
       "  </thead>\n",
       "  <tbody>\n",
       "    <tr>\n",
       "      <th>Carvão</th>\n",
       "      <td>-1.000</td>\n",
       "      <td>0.0</td>\n",
       "    </tr>\n",
       "    <tr>\n",
       "      <th>CO2</th>\n",
       "      <td>0.500</td>\n",
       "      <td>2.0</td>\n",
       "    </tr>\n",
       "    <tr>\n",
       "      <th>NOx</th>\n",
       "      <td>0.002</td>\n",
       "      <td>7.0</td>\n",
       "    </tr>\n",
       "  </tbody>\n",
       "</table>\n",
       "</div>"
      ],
      "text/plain": [
       "         Processo 1  Processo 2\n",
       "Produto                        \n",
       "Carvão       -1.000         0.0\n",
       "CO2           0.500         2.0\n",
       "NOx           0.002         7.0"
      ]
     },
     "execution_count": 4,
     "metadata": {},
     "output_type": "execute_result"
    }
   ],
   "source": [
    "# Matriz B: Fluxos elementares\n",
    "carvao = {'Produto':'Carvão', 'Processo 1': -1, 'Processo 2': 0}\n",
    "co2 = {'Produto':'CO2', 'Processo 1': 0.5, 'Processo 2': 2}\n",
    "nox = {'Produto':'NOx', 'Processo 1': 0.002, 'Processo 2': 7}\n",
    "linhas = [carvao, co2, nox]\n",
    "\n",
    "dfB = pd.DataFrame()\n",
    "for linha in linhas:\n",
    "    dfB = dfB.append(linha, ignore_index=True)\n",
    "dfB = dfB.set_index('Produto')\n",
    "dfB"
   ]
  },
  {
   "cell_type": "code",
   "execution_count": 5,
   "metadata": {},
   "outputs": [
    {
     "data": {
      "text/html": [
       "<div>\n",
       "<style scoped>\n",
       "    .dataframe tbody tr th:only-of-type {\n",
       "        vertical-align: middle;\n",
       "    }\n",
       "\n",
       "    .dataframe tbody tr th {\n",
       "        vertical-align: top;\n",
       "    }\n",
       "\n",
       "    .dataframe thead th {\n",
       "        text-align: right;\n",
       "    }\n",
       "</style>\n",
       "<table border=\"1\" class=\"dataframe\">\n",
       "  <thead>\n",
       "    <tr style=\"text-align: right;\">\n",
       "      <th></th>\n",
       "      <th>Valor</th>\n",
       "    </tr>\n",
       "    <tr>\n",
       "      <th>Produto</th>\n",
       "      <th></th>\n",
       "    </tr>\n",
       "  </thead>\n",
       "  <tbody>\n",
       "    <tr>\n",
       "      <th>Coque</th>\n",
       "      <td>0.0</td>\n",
       "    </tr>\n",
       "    <tr>\n",
       "      <th>Aço</th>\n",
       "      <td>1610.0</td>\n",
       "    </tr>\n",
       "    <tr>\n",
       "      <th>Fofo</th>\n",
       "      <td>0.0</td>\n",
       "    </tr>\n",
       "  </tbody>\n",
       "</table>\n",
       "</div>"
      ],
      "text/plain": [
       "          Valor\n",
       "Produto        \n",
       "Coque       0.0\n",
       "Aço      1610.0\n",
       "Fofo        0.0"
      ]
     },
     "execution_count": 5,
     "metadata": {},
     "output_type": "execute_result"
    }
   ],
   "source": [
    "# k é o fluxo de referência\n",
    "kcoque = {'Produto':'Coque', 'Valor':0}\n",
    "kaco = {'Produto':'Aço', 'Valor': 1610}\n",
    "kfofo = {'Produto':'Fofo', 'Valor':0 }\n",
    "linhas = [kcoque, kaco, kfofo]\n",
    "\n",
    "dfk = pd.DataFrame()\n",
    "for linha in linhas:\n",
    "    dfk = dfk.append(linha, ignore_index=True)\n",
    "dfk = dfk.set_index('Produto')\n",
    "dfk"
   ]
  },
  {
   "cell_type": "markdown",
   "metadata": {},
   "source": [
    "# Tem um problema de a matriz A não ser inversa. É um problema de alocação"
   ]
  },
  {
   "cell_type": "markdown",
   "metadata": {},
   "source": [
    "### OPÇÃO 1: COMPLETAR COM LINHA DA MATRIZ IDENTIDADE"
   ]
  },
  {
   "cell_type": "markdown",
   "metadata": {},
   "source": [
    "### OPÇÃO 2: JOGAR O AÇO PARA FLUXO ELEMENTAR"
   ]
  },
  {
   "cell_type": "markdown",
   "metadata": {},
   "source": [
    "### OPÇÃO 3: SUBDIVIDIR UM PROCESSO E ALOCAR COM POR MASSA"
   ]
  },
  {
   "cell_type": "markdown",
   "metadata": {},
   "source": [
    "# OPÇÃO 1"
   ]
  },
  {
   "cell_type": "code",
   "execution_count": 6,
   "metadata": {},
   "outputs": [
    {
     "data": {
      "text/html": [
       "<div>\n",
       "<style scoped>\n",
       "    .dataframe tbody tr th:only-of-type {\n",
       "        vertical-align: middle;\n",
       "    }\n",
       "\n",
       "    .dataframe tbody tr th {\n",
       "        vertical-align: top;\n",
       "    }\n",
       "\n",
       "    .dataframe thead th {\n",
       "        text-align: right;\n",
       "    }\n",
       "</style>\n",
       "<table border=\"1\" class=\"dataframe\">\n",
       "  <thead>\n",
       "    <tr style=\"text-align: right;\">\n",
       "      <th></th>\n",
       "      <th>Processo 1</th>\n",
       "      <th>Processo 2</th>\n",
       "      <th>Processo 3</th>\n",
       "    </tr>\n",
       "    <tr>\n",
       "      <th>Produto</th>\n",
       "      <th></th>\n",
       "      <th></th>\n",
       "      <th></th>\n",
       "    </tr>\n",
       "  </thead>\n",
       "  <tbody>\n",
       "    <tr>\n",
       "      <th>Coque</th>\n",
       "      <td>1.00</td>\n",
       "      <td>-0.4</td>\n",
       "      <td>0</td>\n",
       "    </tr>\n",
       "    <tr>\n",
       "      <th>Aço</th>\n",
       "      <td>-0.04</td>\n",
       "      <td>3.0</td>\n",
       "      <td>0</td>\n",
       "    </tr>\n",
       "    <tr>\n",
       "      <th>Fofo</th>\n",
       "      <td>0.00</td>\n",
       "      <td>1.0</td>\n",
       "      <td>1</td>\n",
       "    </tr>\n",
       "  </tbody>\n",
       "</table>\n",
       "</div>"
      ],
      "text/plain": [
       "         Processo 1  Processo 2  Processo 3\n",
       "Produto                                    \n",
       "Coque          1.00        -0.4           0\n",
       "Aço           -0.04         3.0           0\n",
       "Fofo           0.00         1.0           1"
      ]
     },
     "execution_count": 6,
     "metadata": {},
     "output_type": "execute_result"
    }
   ],
   "source": [
    "dfa1 = dfA.copy()\n",
    "dfa1['Processo 3'] = 0\n",
    "dfa1.at['Fofo', 'Processo 3'] = 1\n",
    "dfa1"
   ]
  },
  {
   "cell_type": "code",
   "execution_count": 7,
   "metadata": {},
   "outputs": [
    {
     "data": {
      "text/html": [
       "<div>\n",
       "<style scoped>\n",
       "    .dataframe tbody tr th:only-of-type {\n",
       "        vertical-align: middle;\n",
       "    }\n",
       "\n",
       "    .dataframe tbody tr th {\n",
       "        vertical-align: top;\n",
       "    }\n",
       "\n",
       "    .dataframe thead th {\n",
       "        text-align: right;\n",
       "    }\n",
       "</style>\n",
       "<table border=\"1\" class=\"dataframe\">\n",
       "  <thead>\n",
       "    <tr style=\"text-align: right;\">\n",
       "      <th></th>\n",
       "      <th>Processo 1</th>\n",
       "      <th>Processo 2</th>\n",
       "      <th>Processo 3</th>\n",
       "    </tr>\n",
       "    <tr>\n",
       "      <th>Produto</th>\n",
       "      <th></th>\n",
       "      <th></th>\n",
       "      <th></th>\n",
       "    </tr>\n",
       "  </thead>\n",
       "  <tbody>\n",
       "    <tr>\n",
       "      <th>Carvão</th>\n",
       "      <td>-1.000</td>\n",
       "      <td>0.0</td>\n",
       "      <td>0</td>\n",
       "    </tr>\n",
       "    <tr>\n",
       "      <th>CO2</th>\n",
       "      <td>0.500</td>\n",
       "      <td>2.0</td>\n",
       "      <td>0</td>\n",
       "    </tr>\n",
       "    <tr>\n",
       "      <th>NOx</th>\n",
       "      <td>0.002</td>\n",
       "      <td>7.0</td>\n",
       "      <td>0</td>\n",
       "    </tr>\n",
       "  </tbody>\n",
       "</table>\n",
       "</div>"
      ],
      "text/plain": [
       "         Processo 1  Processo 2  Processo 3\n",
       "Produto                                    \n",
       "Carvão       -1.000         0.0           0\n",
       "CO2           0.500         2.0           0\n",
       "NOx           0.002         7.0           0"
      ]
     },
     "execution_count": 7,
     "metadata": {},
     "output_type": "execute_result"
    }
   ],
   "source": [
    "dfb1 = dfB.copy()\n",
    "dfb1['Processo 3']=0\n",
    "dfb1"
   ]
  },
  {
   "cell_type": "code",
   "execution_count": 8,
   "metadata": {},
   "outputs": [],
   "source": [
    "dfk1 = dfk.copy()"
   ]
  },
  {
   "cell_type": "code",
   "execution_count": 9,
   "metadata": {},
   "outputs": [
    {
     "name": "stdout",
     "output_type": "stream",
     "text": [
      "Emissão de Carvão: -215.82\n",
      "Emissão de CO2: 1187.0\n",
      "Emissão de NOx: 3777.24\n"
     ]
    }
   ],
   "source": [
    "inva, bma, M = calcular_inventario(dfa1,dfb1,dfk1)"
   ]
  },
  {
   "cell_type": "markdown",
   "metadata": {},
   "source": [
    "# OPÇÃO 2"
   ]
  },
  {
   "cell_type": "code",
   "execution_count": 10,
   "metadata": {},
   "outputs": [],
   "source": [
    "# retirar o aço do A e colocar como um B\n",
    "retirado = 'Fofo'"
   ]
  },
  {
   "cell_type": "code",
   "execution_count": 11,
   "metadata": {},
   "outputs": [
    {
     "data": {
      "text/html": [
       "<div>\n",
       "<style scoped>\n",
       "    .dataframe tbody tr th:only-of-type {\n",
       "        vertical-align: middle;\n",
       "    }\n",
       "\n",
       "    .dataframe tbody tr th {\n",
       "        vertical-align: top;\n",
       "    }\n",
       "\n",
       "    .dataframe thead th {\n",
       "        text-align: right;\n",
       "    }\n",
       "</style>\n",
       "<table border=\"1\" class=\"dataframe\">\n",
       "  <thead>\n",
       "    <tr style=\"text-align: right;\">\n",
       "      <th></th>\n",
       "      <th>Processo 1</th>\n",
       "      <th>Processo 2</th>\n",
       "    </tr>\n",
       "    <tr>\n",
       "      <th>Produto</th>\n",
       "      <th></th>\n",
       "      <th></th>\n",
       "    </tr>\n",
       "  </thead>\n",
       "  <tbody>\n",
       "    <tr>\n",
       "      <th>Coque</th>\n",
       "      <td>1.00</td>\n",
       "      <td>-0.4</td>\n",
       "    </tr>\n",
       "    <tr>\n",
       "      <th>Aço</th>\n",
       "      <td>-0.04</td>\n",
       "      <td>3.0</td>\n",
       "    </tr>\n",
       "  </tbody>\n",
       "</table>\n",
       "</div>"
      ],
      "text/plain": [
       "         Processo 1  Processo 2\n",
       "Produto                        \n",
       "Coque          1.00        -0.4\n",
       "Aço           -0.04         3.0"
      ]
     },
     "execution_count": 11,
     "metadata": {},
     "output_type": "execute_result"
    }
   ],
   "source": [
    "dfa2 = dfA[dfA.index!=retirado]\n",
    "dfa2"
   ]
  },
  {
   "cell_type": "code",
   "execution_count": 12,
   "metadata": {},
   "outputs": [
    {
     "data": {
      "text/html": [
       "<div>\n",
       "<style scoped>\n",
       "    .dataframe tbody tr th:only-of-type {\n",
       "        vertical-align: middle;\n",
       "    }\n",
       "\n",
       "    .dataframe tbody tr th {\n",
       "        vertical-align: top;\n",
       "    }\n",
       "\n",
       "    .dataframe thead th {\n",
       "        text-align: right;\n",
       "    }\n",
       "</style>\n",
       "<table border=\"1\" class=\"dataframe\">\n",
       "  <thead>\n",
       "    <tr style=\"text-align: right;\">\n",
       "      <th></th>\n",
       "      <th>Valor</th>\n",
       "    </tr>\n",
       "    <tr>\n",
       "      <th>Produto</th>\n",
       "      <th></th>\n",
       "    </tr>\n",
       "  </thead>\n",
       "  <tbody>\n",
       "    <tr>\n",
       "      <th>Coque</th>\n",
       "      <td>0.0</td>\n",
       "    </tr>\n",
       "    <tr>\n",
       "      <th>Aço</th>\n",
       "      <td>1610.0</td>\n",
       "    </tr>\n",
       "  </tbody>\n",
       "</table>\n",
       "</div>"
      ],
      "text/plain": [
       "          Valor\n",
       "Produto        \n",
       "Coque       0.0\n",
       "Aço      1610.0"
      ]
     },
     "execution_count": 12,
     "metadata": {},
     "output_type": "execute_result"
    }
   ],
   "source": [
    "dfk2 = dfk[dfk.index!=retirado]\n",
    "dfk2"
   ]
  },
  {
   "cell_type": "code",
   "execution_count": 13,
   "metadata": {},
   "outputs": [
    {
     "data": {
      "text/html": [
       "<div>\n",
       "<style scoped>\n",
       "    .dataframe tbody tr th:only-of-type {\n",
       "        vertical-align: middle;\n",
       "    }\n",
       "\n",
       "    .dataframe tbody tr th {\n",
       "        vertical-align: top;\n",
       "    }\n",
       "\n",
       "    .dataframe thead th {\n",
       "        text-align: right;\n",
       "    }\n",
       "</style>\n",
       "<table border=\"1\" class=\"dataframe\">\n",
       "  <thead>\n",
       "    <tr style=\"text-align: right;\">\n",
       "      <th></th>\n",
       "      <th>Processo 1</th>\n",
       "      <th>Processo 2</th>\n",
       "    </tr>\n",
       "    <tr>\n",
       "      <th>Produto</th>\n",
       "      <th></th>\n",
       "      <th></th>\n",
       "    </tr>\n",
       "  </thead>\n",
       "  <tbody>\n",
       "    <tr>\n",
       "      <th>Carvão</th>\n",
       "      <td>-1.000</td>\n",
       "      <td>0.0</td>\n",
       "    </tr>\n",
       "    <tr>\n",
       "      <th>CO2</th>\n",
       "      <td>0.500</td>\n",
       "      <td>2.0</td>\n",
       "    </tr>\n",
       "    <tr>\n",
       "      <th>NOx</th>\n",
       "      <td>0.002</td>\n",
       "      <td>7.0</td>\n",
       "    </tr>\n",
       "    <tr>\n",
       "      <th>Fofo</th>\n",
       "      <td>0.000</td>\n",
       "      <td>1.0</td>\n",
       "    </tr>\n",
       "  </tbody>\n",
       "</table>\n",
       "</div>"
      ],
      "text/plain": [
       "         Processo 1  Processo 2\n",
       "Produto                        \n",
       "Carvão       -1.000         0.0\n",
       "CO2           0.500         2.0\n",
       "NOx           0.002         7.0\n",
       "Fofo          0.000         1.0"
      ]
     },
     "execution_count": 13,
     "metadata": {},
     "output_type": "execute_result"
    }
   ],
   "source": [
    "dfb2 = dfB.copy()\n",
    "dfb2 = dfb2.append(dfA.loc[[retirado]])\n",
    "dfb2"
   ]
  },
  {
   "cell_type": "code",
   "execution_count": 14,
   "metadata": {},
   "outputs": [
    {
     "name": "stdout",
     "output_type": "stream",
     "text": [
      "Emissão de Carvão: -215.82\n",
      "Emissão de CO2: 1187.0\n",
      "Emissão de NOx: 3777.24\n",
      "Emissão de Fofo: 539.54\n"
     ]
    }
   ],
   "source": [
    "inva, bma, M = calcular_inventario(dfa2,dfb2,dfk2)"
   ]
  },
  {
   "cell_type": "markdown",
   "metadata": {},
   "source": [
    "# OPÇÃO 3"
   ]
  },
  {
   "cell_type": "code",
   "execution_count": 15,
   "metadata": {},
   "outputs": [],
   "source": [
    "dfb3 = dfB.copy()\n",
    "dfk3 = dfk.copy()"
   ]
  },
  {
   "cell_type": "code",
   "execution_count": 16,
   "metadata": {},
   "outputs": [],
   "source": [
    "# Dividir um processo em 2 subprocessos e alocar por massa"
   ]
  },
  {
   "cell_type": "code",
   "execution_count": 17,
   "metadata": {},
   "outputs": [],
   "source": [
    "# Vamos dividir o processo 2 em aço e ferro fundido\n",
    "# O novo processo 2 vai ter tudo de aço, 0 de fofo, e a proporção entre aço e fofo do antigo processo 2 para os outros produtos\n",
    "# O novo processo 3 vai ter 0 de aço, tudo de fofo, e a proporção entre aço e fofo do antigo processo 2 para os outros produtos"
   ]
  },
  {
   "cell_type": "code",
   "execution_count": 18,
   "metadata": {},
   "outputs": [],
   "source": [
    "qtd_aco = dfA.loc['Aço', 'Processo 2']\n",
    "\n",
    "qtd_fofo = dfA.loc['Fofo', 'Processo 2']\n",
    "tot = qtd_aco + qtd_fofo\n",
    "\n",
    "prop_aco = qtd_aco / tot\n",
    "prop_fofo = qtd_fofo / tot"
   ]
  },
  {
   "cell_type": "code",
   "execution_count": 19,
   "metadata": {},
   "outputs": [
    {
     "data": {
      "text/html": [
       "<div>\n",
       "<style scoped>\n",
       "    .dataframe tbody tr th:only-of-type {\n",
       "        vertical-align: middle;\n",
       "    }\n",
       "\n",
       "    .dataframe tbody tr th {\n",
       "        vertical-align: top;\n",
       "    }\n",
       "\n",
       "    .dataframe thead th {\n",
       "        text-align: right;\n",
       "    }\n",
       "</style>\n",
       "<table border=\"1\" class=\"dataframe\">\n",
       "  <thead>\n",
       "    <tr style=\"text-align: right;\">\n",
       "      <th></th>\n",
       "      <th>Processo 1</th>\n",
       "      <th>Processo 2</th>\n",
       "      <th>Processo 3</th>\n",
       "    </tr>\n",
       "    <tr>\n",
       "      <th>Produto</th>\n",
       "      <th></th>\n",
       "      <th></th>\n",
       "      <th></th>\n",
       "    </tr>\n",
       "  </thead>\n",
       "  <tbody>\n",
       "    <tr>\n",
       "      <th>Coque</th>\n",
       "      <td>1.00</td>\n",
       "      <td>-0.3</td>\n",
       "      <td>-0.1</td>\n",
       "    </tr>\n",
       "    <tr>\n",
       "      <th>Aço</th>\n",
       "      <td>-0.04</td>\n",
       "      <td>3.0</td>\n",
       "      <td>0.0</td>\n",
       "    </tr>\n",
       "    <tr>\n",
       "      <th>Fofo</th>\n",
       "      <td>0.00</td>\n",
       "      <td>0.0</td>\n",
       "      <td>1.0</td>\n",
       "    </tr>\n",
       "  </tbody>\n",
       "</table>\n",
       "</div>"
      ],
      "text/plain": [
       "         Processo 1  Processo 2  Processo 3\n",
       "Produto                                    \n",
       "Coque          1.00        -0.3        -0.1\n",
       "Aço           -0.04         3.0         0.0\n",
       "Fofo           0.00         0.0         1.0"
      ]
     },
     "execution_count": 19,
     "metadata": {},
     "output_type": "execute_result"
    }
   ],
   "source": [
    "dfa3 = dfA.copy()\n",
    "\n",
    "dfa3['Processo 3'] = dfa3['Processo 2']*prop_fofo # vai ser do fofo\n",
    "dfa3.at['Aço', 'Processo 3'] = 0\n",
    "dfa3.at['Fofo', 'Processo 3'] = qtd_fofo\n",
    "\n",
    "dfa3['Processo 2'] = dfa3['Processo 2']*prop_aco # vai ser do aço\n",
    "dfa3.at['Aço', 'Processo 2'] = qtd_aco\n",
    "dfa3.at['Fofo', 'Processo 2'] = 0\n",
    "\n",
    "\n",
    "dfa3"
   ]
  },
  {
   "cell_type": "code",
   "execution_count": 20,
   "metadata": {},
   "outputs": [
    {
     "data": {
      "text/html": [
       "<div>\n",
       "<style scoped>\n",
       "    .dataframe tbody tr th:only-of-type {\n",
       "        vertical-align: middle;\n",
       "    }\n",
       "\n",
       "    .dataframe tbody tr th {\n",
       "        vertical-align: top;\n",
       "    }\n",
       "\n",
       "    .dataframe thead th {\n",
       "        text-align: right;\n",
       "    }\n",
       "</style>\n",
       "<table border=\"1\" class=\"dataframe\">\n",
       "  <thead>\n",
       "    <tr style=\"text-align: right;\">\n",
       "      <th></th>\n",
       "      <th>Processo 1</th>\n",
       "      <th>Processo 2</th>\n",
       "      <th>Processo 3</th>\n",
       "    </tr>\n",
       "    <tr>\n",
       "      <th>Produto</th>\n",
       "      <th></th>\n",
       "      <th></th>\n",
       "      <th></th>\n",
       "    </tr>\n",
       "  </thead>\n",
       "  <tbody>\n",
       "    <tr>\n",
       "      <th>Carvão</th>\n",
       "      <td>-1.000</td>\n",
       "      <td>0.00</td>\n",
       "      <td>0.00</td>\n",
       "    </tr>\n",
       "    <tr>\n",
       "      <th>CO2</th>\n",
       "      <td>0.500</td>\n",
       "      <td>1.50</td>\n",
       "      <td>0.50</td>\n",
       "    </tr>\n",
       "    <tr>\n",
       "      <th>NOx</th>\n",
       "      <td>0.002</td>\n",
       "      <td>5.25</td>\n",
       "      <td>1.75</td>\n",
       "    </tr>\n",
       "  </tbody>\n",
       "</table>\n",
       "</div>"
      ],
      "text/plain": [
       "         Processo 1  Processo 2  Processo 3\n",
       "Produto                                    \n",
       "Carvão       -1.000        0.00        0.00\n",
       "CO2           0.500        1.50        0.50\n",
       "NOx           0.002        5.25        1.75"
      ]
     },
     "execution_count": 20,
     "metadata": {},
     "output_type": "execute_result"
    }
   ],
   "source": [
    "dfb3 = dfB.copy()\n",
    "\n",
    "dfb3['Processo 3'] = dfb3['Processo 2']*prop_fofo # vai ser do aço\n",
    "dfb3['Processo 2'] = dfb3['Processo 2']*prop_aco # vai ser do aço\n",
    "\n",
    "dfb3"
   ]
  },
  {
   "cell_type": "code",
   "execution_count": 21,
   "metadata": {},
   "outputs": [],
   "source": [
    "dfk3 = dfk.copy()"
   ]
  },
  {
   "cell_type": "code",
   "execution_count": 22,
   "metadata": {},
   "outputs": [
    {
     "name": "stdout",
     "output_type": "stream",
     "text": [
      "Emissão de Carvão: -161.65\n",
      "Emissão de CO2: 889.06\n",
      "Emissão de NOx: 2829.14\n"
     ]
    }
   ],
   "source": [
    "inva, bma, M = calcular_inventario(dfa3,dfb3,dfk3)"
   ]
  },
  {
   "cell_type": "code",
   "execution_count": null,
   "metadata": {},
   "outputs": [],
   "source": [
    "# mudanças climaticas, acidificacao, toxicidade humana\n",
    "impactos = {'CO2':[1, 0, 0], }\n",
    "a)\to CO2 contribui com fator 1 para mudanças climáticas (kg eq. CO2) e o CH4 com fator 25;\n",
    "b)\to SO2 apresenta fator 1 para acidificação (kg eq. SO2) e o NO2, 0,7 e,\n",
    "c)\tpara a toxicidade humana, o MP tem fator 0,2 e o SO2, fator 0,01"
   ]
  }
 ],
 "metadata": {
  "kernelspec": {
   "display_name": "Python 3",
   "language": "python",
   "name": "python3"
  },
  "language_info": {
   "codemirror_mode": {
    "name": "ipython",
    "version": 3
   },
   "file_extension": ".py",
   "mimetype": "text/x-python",
   "name": "python",
   "nbconvert_exporter": "python",
   "pygments_lexer": "ipython3",
   "version": "3.8.3"
  }
 },
 "nbformat": 4,
 "nbformat_minor": 4
}
