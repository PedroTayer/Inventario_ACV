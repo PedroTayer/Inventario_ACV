{
 "cells": [
  {
   "cell_type": "code",
   "execution_count": 1,
   "id": "d88aaa17-9980-4947-a443-2ae86b5a65d8",
   "metadata": {},
   "outputs": [],
   "source": [
    "import pandas as pd\n",
    "import numpy as np\n",
    "from utils import ler_entradas, calcular_variancias"
   ]
  },
  {
   "cell_type": "code",
   "execution_count": 2,
   "id": "f8b1a2dc-ae17-4d0b-9ab2-3d0de4305e36",
   "metadata": {},
   "outputs": [],
   "source": [
    "filename = 'entradas.xlsx'"
   ]
  },
  {
   "cell_type": "code",
   "execution_count": 3,
   "id": "ae21e40e-7ded-49b7-b60c-f624db450d36",
   "metadata": {},
   "outputs": [],
   "source": [
    "dfa, dfb, dfk, dfq, dfstda, dfstdb, dfstdq, dtipos_stdp, dtipos_stdq = ler_entradas(filename)"
   ]
  },
  {
   "cell_type": "code",
   "execution_count": 4,
   "id": "2a74a6cf-6248-4cf1-b036-82a7baad7662",
   "metadata": {},
   "outputs": [],
   "source": [
    "A, B, q = dfa.to_numpy(), dfb.to_numpy(), dfq.to_numpy()"
   ]
  },
  {
   "cell_type": "code",
   "execution_count": 5,
   "id": "525e3798-fbad-436c-927c-d0ffcdd4a384",
   "metadata": {},
   "outputs": [],
   "source": [
    "std_a, std_b, std_q = dfstda.to_numpy(), dfstdb.to_numpy(), dfstdq.to_numpy()"
   ]
  },
  {
   "cell_type": "code",
   "execution_count": 6,
   "id": "bfca2983-1a2f-445e-9914-d602f4295ab7",
   "metadata": {
    "tags": []
   },
   "outputs": [],
   "source": [
    "var_a, tipos_a = calcular_variancias(A, std_a, dtipos_stdp, dfa)\n",
    "var_b, tipos_b = calcular_variancias(B, std_b, dtipos_stdp, dfb)\n",
    "var_q, tipos_q = calcular_variancias(q, std_q, dtipos_stdq, dfq, True)"
   ]
  }
 ],
 "metadata": {
  "kernelspec": {
   "display_name": "env_analytics",
   "language": "python",
   "name": "env_analytics"
  },
  "language_info": {
   "codemirror_mode": {
    "name": "ipython",
    "version": 3
   },
   "file_extension": ".py",
   "mimetype": "text/x-python",
   "name": "python",
   "nbconvert_exporter": "python",
   "pygments_lexer": "ipython3",
   "version": "3.8.3"
  }
 },
 "nbformat": 4,
 "nbformat_minor": 5
}
