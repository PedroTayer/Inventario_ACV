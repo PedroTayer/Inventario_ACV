{
 "cells": [
  {
   "cell_type": "code",
   "execution_count": 115,
   "id": "0c211e3e-2f2c-4a87-b6b4-2aecb3d6dd24",
   "metadata": {},
   "outputs": [],
   "source": [
    "import pandas as pd\n",
    "import numpy as np\n",
    "import math\n",
    "from utils import calcular_inventario, coluna_fantasma, criterio_de_corte, alocar"
   ]
  },
  {
   "cell_type": "code",
   "execution_count": 116,
   "id": "4101addc-3bd7-4897-b19a-8500dda03e1f",
   "metadata": {},
   "outputs": [],
   "source": [
    "filename = 'entradas.xlsx'\n",
    "inputed = pd.read_excel(filename, sheet_name='processos')\n",
    "inputed.fillna(0, inplace=True)\n",
    "ncols = len(inputed.columns)\n",
    "nprocessos = ncols - 3\n",
    "processos = [f'P{i}' for i in range(1, nprocessos + 1)]\n",
    "\n",
    "dfA = inputed[inputed['Intermediário'] == 1][['Produto'] + processos].copy()\n",
    "dfA.set_index('Produto', inplace=True)\n",
    "\n",
    "dfB = inputed[inputed['Intermediário'] == 0][['Produto'] + processos].copy()\n",
    "dfB.set_index('Produto', inplace=True)\n",
    "\n",
    "dfk = inputed[inputed['Intermediário'] == 1][['Produto', 'Fluxo de referência']].copy()\n",
    "dfk.set_index('Produto', inplace=True)"
   ]
  },
  {
   "cell_type": "code",
   "execution_count": 117,
   "id": "0e38a91b-d96e-485b-a94c-893bbed1aa57",
   "metadata": {},
   "outputs": [],
   "source": [
    "dfa, dfb, dfk = criterio_de_corte(dfA, dfB, dfk, 'fofo')"
   ]
  },
  {
   "cell_type": "code",
   "execution_count": 118,
   "id": "2da0f62c-2f91-4975-8f16-e561b06e4f21",
   "metadata": {},
   "outputs": [],
   "source": [
    "A, B, k = dfa.to_numpy(), dfb.to_numpy(), dfk.to_numpy()"
   ]
  },
  {
   "cell_type": "code",
   "execution_count": 119,
   "id": "d23f3e73-99f6-4198-8f8d-c600aa909ab9",
   "metadata": {},
   "outputs": [],
   "source": [
    "dfs, dfg, dflambda, inva = calcular_inventario(dfa, dfb, dfk)"
   ]
  },
  {
   "cell_type": "code",
   "execution_count": 120,
   "id": "10a6e73d-2cc6-4f20-b772-08f428c63975",
   "metadata": {},
   "outputs": [],
   "source": [
    "s, g, mlambda = dfs.to_numpy(), dfg.to_numpy(), dflambda.to_numpy()"
   ]
  },
  {
   "cell_type": "code",
   "execution_count": 121,
   "id": "924891a4-669a-41eb-a155-82b661773459",
   "metadata": {},
   "outputs": [],
   "source": [
    "q = pd.read_excel(filename, sheet_name='caracterização')\n",
    "q = q.set_index('Produto')\n",
    "dfq = q.to_numpy()"
   ]
  },
  {
   "cell_type": "code",
   "execution_count": 122,
   "id": "730d4e2e-71cc-438d-a28f-c1353f7dcd74",
   "metadata": {},
   "outputs": [
    {
     "data": {
      "text/plain": [
       "array([[0. , 0. ],\n",
       "       [1. , 0. ],\n",
       "       [0. , 0.7],\n",
       "       [0. , 0. ]])"
      ]
     },
     "execution_count": 122,
     "metadata": {},
     "output_type": "execute_result"
    }
   ],
   "source": [
    "dfq"
   ]
  },
  {
   "cell_type": "code",
   "execution_count": 123,
   "id": "62c48c6f-11c0-433c-b27f-6ca691e5ecea",
   "metadata": {},
   "outputs": [],
   "source": [
    "std_a = np.matrix([[0.01, 0.05], [0.02, 0.03]])\n",
    "std_b = np.matrix([[0.05, 0], [0.5, 0.1], [0,0.3], [0, 0.2]])\n",
    "b_lognormal = [False, True, True, False]\n",
    "\n",
    "var_a = np.power(std_a, 2)\n",
    "var_b = np.zeros(std_b.shape)"
   ]
  },
  {
   "cell_type": "code",
   "execution_count": 124,
   "id": "ba9f209f-639d-4f11-95b1-2ea33b6c602f",
   "metadata": {},
   "outputs": [],
   "source": [
    "for i in range(B.shape[0]):\n",
    "    for j in range(B.shape[1]):\n",
    "        if not b_lognormal[i]:\n",
    "            var_b[i,j] = std_b[i,j]**2\n",
    "        else:\n",
    "            var_b[i,j] = (math.exp(std_b[i,j]**2)-1) * (math.exp(2*B[i,j]+std_b[i,j]**2))"
   ]
  },
  {
   "cell_type": "code",
   "execution_count": 125,
   "id": "6419bbce-e9f9-421f-b991-e16d9ae4cc0e",
   "metadata": {},
   "outputs": [
    {
     "name": "stdout",
     "output_type": "stream",
     "text": [
      "Para S0:\n",
      "Para i=1, j=1 e k=1, valor = [4.70781045]\n",
      "Para i=1, j=2 e k=1, valor = [735.59538345]\n",
      "Para i=2, j=1 e k=1, valor = [0.33477763]\n",
      "Para i=2, j=2 e k=1, valor = [4.70781045]\n",
      "\n",
      "\n",
      "Para S1:\n",
      "Para i=1, j=1 e k=2, valor = [0.00083694]\n",
      "Para i=1, j=2 e k=2, valor = [0.13077251]\n",
      "Para i=2, j=1 e k=2, valor = [2.0923602]\n",
      "Para i=2, j=2 e k=2, valor = [29.42381534]\n",
      "\n",
      "\n"
     ]
    }
   ],
   "source": [
    "var_s = np.zeros(s.shape)\n",
    "for k in range(len(s)):\n",
    "        print(f'Para S{k}:')\n",
    "        soma = 0\n",
    "        for i in range(A.shape[0]):\n",
    "                for j in range(A.shape[1]):\n",
    "                    valor = s[j]**2 * var_a[i,j] * inva[k,i]**2\n",
    "                    print(f'Para i={i+1}, j={j+1} e k={k+1}, valor = {valor}')\n",
    "                    soma += valor\n",
    "        var_s[k]=soma\n",
    "        print('\\n')"
   ]
  },
  {
   "cell_type": "code",
   "execution_count": 129,
   "id": "3cd68ea2-c14b-40d8-a24b-6fb55908e6a1",
   "metadata": {},
   "outputs": [],
   "source": [
    "var_g1 = np.zeros(g.shape)\n",
    "var_g2 = np.zeros(g.shape)\n",
    "var_g = np.zeros(g.shape)\n",
    "\n",
    "for k in range(len(g)):\n",
    "        soma1 = 0\n",
    "        soma2 = 0\n",
    "        \n",
    "        for i in range(A.shape[0]):\n",
    "                for j in range(A.shape[1]): \n",
    "                    soma1 += (s[j]*mlambda[k,i]) **2 *var_a[i,j]\n",
    "                    if i==k:\n",
    "                        soma2 += s[j]**2 * var_b[i,j]\n",
    "        \n",
    "        var_g1[k] = soma1\n",
    "        var_g2[k] = soma2\n",
    "        var_g[k] = soma1 + soma2"
   ]
  },
  {
   "cell_type": "code",
   "execution_count": 130,
   "id": "47fc76c0-5512-43c2-a0a5-5da81c9fda2b",
   "metadata": {},
   "outputs": [
    {
     "data": {
      "text/plain": [
       "array([[7.45345782e+02],\n",
       "       [3.57881944e+02],\n",
       "       [5.16148562e-03],\n",
       "       [3.16477850e+01]])"
      ]
     },
     "execution_count": 130,
     "metadata": {},
     "output_type": "execute_result"
    }
   ],
   "source": [
    "var_g1"
   ]
  },
  {
   "cell_type": "code",
   "execution_count": 131,
   "id": "dfb97944-c065-4115-8081-6ba30c9ef044",
   "metadata": {},
   "outputs": [
    {
     "data": {
      "text/plain": [
       "array([[1.16443193e+02],\n",
       "       [2.07516512e+05],\n",
       "       [0.00000000e+00],\n",
       "       [0.00000000e+00]])"
      ]
     },
     "execution_count": 131,
     "metadata": {},
     "output_type": "execute_result"
    }
   ],
   "source": [
    "var_g2"
   ]
  },
  {
   "cell_type": "code",
   "execution_count": 132,
   "id": "74f03153-c9f3-46d1-b444-1a1be34d08dc",
   "metadata": {},
   "outputs": [
    {
     "data": {
      "text/plain": [
       "array([[8.61788975e+02],\n",
       "       [2.07874394e+05],\n",
       "       [5.16148562e-03],\n",
       "       [3.16477850e+01]])"
      ]
     },
     "execution_count": 132,
     "metadata": {},
     "output_type": "execute_result"
    }
   ],
   "source": [
    "var_g"
   ]
  },
  {
   "cell_type": "code",
   "execution_count": 111,
   "id": "fff5bfa8-ebdb-4c93-aaac-5d6ac42e082e",
   "metadata": {},
   "outputs": [
    {
     "data": {
      "text/plain": [
       "array([539.54423592])"
      ]
     },
     "execution_count": 111,
     "metadata": {},
     "output_type": "execute_result"
    }
   ],
   "source": [
    "s[1]"
   ]
  },
  {
   "cell_type": "code",
   "execution_count": 134,
   "id": "4650ddb4-303f-4be7-9ae9-2d2bb70594d8",
   "metadata": {},
   "outputs": [
    {
     "data": {
      "text/plain": [
       "array([[-215.81769437],\n",
       "       [1186.99731903],\n",
       "       [   4.20844504],\n",
       "       [ 539.54423592]])"
      ]
     },
     "execution_count": 134,
     "metadata": {},
     "output_type": "execute_result"
    }
   ],
   "source": [
    "g"
   ]
  },
  {
   "cell_type": "code",
   "execution_count": null,
   "id": "190676cc-da48-44f8-b141-f1983f9c8672",
   "metadata": {},
   "outputs": [],
   "source": []
  }
 ],
 "metadata": {
  "kernelspec": {
   "display_name": "Python 3 (ipykernel)",
   "language": "python",
   "name": "python3"
  },
  "language_info": {
   "codemirror_mode": {
    "name": "ipython",
    "version": 3
   },
   "file_extension": ".py",
   "mimetype": "text/x-python",
   "name": "python",
   "nbconvert_exporter": "python",
   "pygments_lexer": "ipython3",
   "version": "3.8.3"
  }
 },
 "nbformat": 4,
 "nbformat_minor": 5
}
